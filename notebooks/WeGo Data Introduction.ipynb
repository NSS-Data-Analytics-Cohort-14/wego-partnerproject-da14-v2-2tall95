{
 "cells": [
  {
   "cell_type": "markdown",
   "id": "8b5b757c",
   "metadata": {},
   "source": [
    "## WeGo Data Introduction"
   ]
  },
  {
   "cell_type": "code",
   "execution_count": null,
   "id": "eda20091",
   "metadata": {},
   "outputs": [],
   "source": [
    "import pandas as pd"
   ]
  },
  {
   "cell_type": "code",
   "execution_count": null,
   "id": "feba2cfd-e8e7-4662-945d-7d720dafa369",
   "metadata": {},
   "outputs": [],
   "source": [
    "wego = pd.read_csv(\"../data/Route 50 Timepoint and Headway Data, 1-1-2023 through 5-12-2025.csv\")"
   ]
  },
  {
   "cell_type": "markdown",
   "id": "9a56c25e",
   "metadata": {},
   "source": [
    "All the data that you have been provided is from Route 50, Charlotte Pike."
   ]
  },
  {
   "cell_type": "code",
   "execution_count": null,
   "id": "3633b09a",
   "metadata": {},
   "outputs": [],
   "source": [
    "wego['ROUTE_ABBR'].value_counts().sort_index()"
   ]
  },
  {
   "cell_type": "markdown",
   "id": "8e0afb1b",
   "metadata": {},
   "source": [
    "The trip can be identified by the DATE/CALENDAR_ID plus the TRIP_ID.  \n",
    "**Warning:** The TRIP_ID refers to the route and time but will be used across multiple days.\n",
    "\n",
    "The data contains multiple **time points** for each trip. There are more stops along the route than time points, but the time points are the points with specific scheduled times the bus operators must adhere to.\n",
    "\n",
    "The first stop of a trip has a TRIP_EDGE of 1, the last has a TRIP_EDGE of 2, and the intermediate stops are TRIP_EDGE 0. \n",
    "\n",
    "Here is the first trip in the dataset. It occurred on January 1, 2023 and was scheduled to start at 5:34 and end at 6:05."
   ]
  },
  {
   "cell_type": "code",
   "execution_count": null,
   "id": "8ee76886-f3cf-4952-a687-41d41e059c90",
   "metadata": {},
   "outputs": [],
   "source": [
    "(\n",
    "    wego\n",
    "    .loc[wego['CALENDAR_ID'] == 120230101]\n",
    "    .loc[wego['TRIP_ID'] == 332422]\n",
    "    [['DATE', 'CALENDAR_ID', 'TRIP_ID', 'ROUTE_ABBR', 'TIME_POINT_ABBR', 'TRIP_EDGE', 'SCHEDULED_TIME']]\n",
    ")"
   ]
  },
  {
   "cell_type": "markdown",
   "id": "efec124a",
   "metadata": {},
   "source": [
    "Note that the same TRIP_ID appears on the following day with a different CALENDAR_ID."
   ]
  },
  {
   "cell_type": "code",
   "execution_count": null,
   "id": "cfbcb2ca",
   "metadata": {},
   "outputs": [],
   "source": [
    "(\n",
    "    wego\n",
    "    .loc[wego['CALENDAR_ID'] == 120230102]\n",
    "    .loc[wego['TRIP_ID'] == 332422]\n",
    "    [['DATE', 'CALENDAR_ID', 'TRIP_ID', 'ROUTE_ABBR', 'TIME_POINT_ABBR', 'TRIP_EDGE', 'SCHEDULED_TIME']]\n",
    ")"
   ]
  },
  {
   "cell_type": "markdown",
   "id": "dc96b71e",
   "metadata": {},
   "source": [
    "**Adherence** refers to the difference between scheduled time and the actual time that the bus departs from a stop.\n",
    "\n",
    "A negative value for ADHERENCE indicates that the bus is late, and a positive indicates that the bus is early.\n",
    "\n",
    "Generally, an adherence value less than -6 is considered late, and greater than 1 is considered early, but there are some exceptions. For example, a positive adherence for the end of a trip (TRIP_EDGE 2) is not considered early, since it is not a problem if a bus ends its trip early as long as it didn't pass other timepoints early along the way. You can check whether a trip was considered on-time, early, or late using the ADJUSTED_EARLY_COUNT, ADJUSTED_LATE_COUNT, and ADJUSTED_ONTIME_COUNT columns.\n",
    "\n",
    "Here is an example of a trip where all time points would be considered to be on time. Notice that at the end of the trip, the bus was almost 3 minutes early, but was still counted as on-time since this was a trip edge of 2. Also, the bus departed more than 5 minutes late but was still considered to be on-time."
   ]
  },
  {
   "cell_type": "code",
   "execution_count": null,
   "id": "0db64947",
   "metadata": {},
   "outputs": [],
   "source": [
    "(\n",
    "    wego\n",
    "    .loc[wego['CALENDAR_ID'] == 120230101]\n",
    "    .loc[wego['TRIP_ID'] == 332423]\n",
    "    [[\n",
    "        'DATE', 'CALENDAR_ID', 'TRIP_ID', 'ROUTE_ABBR',\n",
    "        'TIME_POINT_ABBR', 'TRIP_EDGE',\n",
    "        'SCHEDULED_TIME', 'ACTUAL_DEPARTURE_TIME', 'ADHERENCE',\n",
    "        'ADJUSTED_EARLY_COUNT', 'ADJUSTED_LATE_COUNT', 'ADJUSTED_ONTIME_COUNT'\n",
    "    ]]\n",
    ")"
   ]
  },
  {
   "cell_type": "markdown",
   "id": "b029ff4d-0c0e-4b3a-8129-2fcf1376fcd7",
   "metadata": {},
   "source": [
    "Here's an example of another trip later that same day that was considered late at the first time point, departing almost 8 minutes behind schedule."
   ]
  },
  {
   "cell_type": "code",
   "execution_count": null,
   "id": "e2747923-dfb0-48ef-a9fe-1a2fddb30f95",
   "metadata": {},
   "outputs": [],
   "source": [
    "(\n",
    "    wego\n",
    "    .loc[wego['CALENDAR_ID'] == 120230101]\n",
    "    .loc[wego['TRIP_ID'] == 332493]\n",
    "    [[\n",
    "        'DATE', 'CALENDAR_ID', 'TRIP_ID', 'ROUTE_ABBR',\n",
    "        'TIME_POINT_ABBR', 'TRIP_EDGE',\n",
    "        'SCHEDULED_TIME', 'ACTUAL_DEPARTURE_TIME', 'ADHERENCE',\n",
    "        'ADJUSTED_EARLY_COUNT', 'ADJUSTED_LATE_COUNT', 'ADJUSTED_ONTIME_COUNT'\n",
    "    ]]\n",
    ")"
   ]
  },
  {
   "cell_type": "markdown",
   "id": "6e45ca4d-27dd-4e73-b343-51858a127f3d",
   "metadata": {},
   "source": [
    "This trip departed nearly 5 minutes early from the first time point, so that time point would be considered early."
   ]
  },
  {
   "cell_type": "code",
   "execution_count": null,
   "id": "adacdcff-57ad-46ba-9d83-a790d4f9a4c1",
   "metadata": {},
   "outputs": [],
   "source": [
    "(\n",
    "    wego\n",
    "    .loc[wego['CALENDAR_ID'] == 120230101]\n",
    "    .loc[wego['TRIP_ID'] == 332431]\n",
    "    [[\n",
    "        'DATE', 'CALENDAR_ID', 'TRIP_ID', 'ROUTE_ABBR',\n",
    "        'TIME_POINT_ABBR', 'TRIP_EDGE',\n",
    "        'SCHEDULED_TIME', 'ACTUAL_DEPARTURE_TIME', 'ADHERENCE',\n",
    "        'ADJUSTED_EARLY_COUNT', 'ADJUSTED_LATE_COUNT', 'ADJUSTED_ONTIME_COUNT'\n",
    "    ]]\n",
    ")"
   ]
  },
  {
   "cell_type": "markdown",
   "id": "ea228996",
   "metadata": {},
   "source": [
    "**Headway** is the amount of time between a bus and the prior bus at the same stop. In the dataset, the amount of headway scheduled is contained in the SCHEDULED_HDWY column and indicates the difference between the scheduled time for a particular stop and the scheduled time for the previous bus on that same stop.\n",
    "\n",
    "This dataset contains a column HDWY_DEV, which shows the amount of deviation from the scheduled headway. **Bunching** occurs when there is shorter headway than scheduled, which would appear as a negative HDWY_DEV value. **Gapping** is when there is more headway than scheduled and appears as a positive value in the HDWY_DEV column. Note that you can calculate headway deviation percentage as HDWY_DEV/SCHEDULED_HDWY. \n",
    "\n",
    "The generally accepted range of headway deviation is 50% to 150% of the scheduled headway, so if scheduled headway is 10 minutes, a headway deviation of up to 5 minutes would be acceptable (but not ideal).\n",
    "\n",
    "Here, you can see consecutive trips at the same time point. Notice that the scheduled headway is based on the scheduled time and that the actual headway is based on the actual departure times."
   ]
  },
  {
   "cell_type": "code",
   "execution_count": null,
   "id": "6774ccc0",
   "metadata": {},
   "outputs": [],
   "source": [
    "(\n",
    "    wego\n",
    "    .loc[wego['ROUTE_DIRECTION_NAME'] == 'TO DOWNTOWN']\n",
    "    .loc[wego['TIME_POINT_ABBR'] == 'CH46']\n",
    "    [['DATE', 'TRIP_ID', 'TIME_POINT_ABBR','ROUTE_DIRECTION_NAME', 'TRIP_EDGE', \n",
    "      'SCHEDULED_TIME', 'SCHEDULED_HDWY',\n",
    "      'ACTUAL_DEPARTURE_TIME', 'ACTUAL_HDWY', 'HDWY_DEV'\n",
    "     ]]\n",
    "    .sort_values(['DATE', 'SCHEDULED_TIME'])\n",
    "    .iloc[:5]\n",
    ")"
   ]
  }
 ],
 "metadata": {
  "kernelspec": {
   "display_name": "Python 3 (ipykernel)",
   "language": "python",
   "name": "python3"
  },
  "language_info": {
   "codemirror_mode": {
    "name": "ipython",
    "version": 3
   },
   "file_extension": ".py",
   "mimetype": "text/x-python",
   "name": "python",
   "nbconvert_exporter": "python",
   "pygments_lexer": "ipython3",
   "version": "3.12.2"
  }
 },
 "nbformat": 4,
 "nbformat_minor": 5
}
